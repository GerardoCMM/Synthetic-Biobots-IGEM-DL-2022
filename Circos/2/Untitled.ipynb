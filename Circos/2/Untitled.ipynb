{
 "cells": [
  {
   "cell_type": "code",
   "execution_count": 2,
   "id": "f98668f0",
   "metadata": {},
   "outputs": [],
   "source": [
    "import pandas as pd"
   ]
  },
  {
   "cell_type": "code",
   "execution_count": 5,
   "id": "611b145d",
   "metadata": {},
   "outputs": [],
   "source": [
    "dif = pd.read_csv(\"difIn40.csv\")"
   ]
  },
  {
   "cell_type": "code",
   "execution_count": 10,
   "id": "90652bc6",
   "metadata": {},
   "outputs": [],
   "source": [
    "genome = pd.read_csv(\"gene_positions.gff\",sep=\"\\t\")"
   ]
  },
  {
   "cell_type": "code",
   "execution_count": 33,
   "id": "2b91ad9e",
   "metadata": {},
   "outputs": [],
   "source": [
    "all = []\n",
    "\n",
    "for i,gene in enumerate(dif[\"difforty\"]):\n",
    "    all.append(gene in list(genome[\"name\"]))"
   ]
  },
  {
   "cell_type": "code",
   "execution_count": 39,
   "id": "9f410ac8",
   "metadata": {},
   "outputs": [
    {
     "data": {
      "text/plain": [
       "516"
      ]
     },
     "execution_count": 39,
     "metadata": {},
     "output_type": "execute_result"
    }
   ],
   "source": [
    "all.count(True)"
   ]
  },
  {
   "cell_type": "code",
   "execution_count": 41,
   "id": "ee5d8c64",
   "metadata": {},
   "outputs": [
    {
     "data": {
      "text/plain": [
       "7"
      ]
     },
     "execution_count": 41,
     "metadata": {},
     "output_type": "execute_result"
    }
   ],
   "source": [
    "all.count(False)"
   ]
  },
  {
   "cell_type": "code",
   "execution_count": 42,
   "id": "2301e9db",
   "metadata": {},
   "outputs": [],
   "source": [
    "up = pd.read_csv(\"upIn40.csv\")"
   ]
  },
  {
   "cell_type": "code",
   "execution_count": 46,
   "id": "6fca4aa9",
   "metadata": {},
   "outputs": [],
   "source": [
    "all2 = []\n",
    "\n",
    "for i,gene in enumerate(up[\"forty\"]):\n",
    "    all2.append(gene in list(genome[\"name\"]))"
   ]
  },
  {
   "cell_type": "code",
   "execution_count": 47,
   "id": "221fc1bb",
   "metadata": {},
   "outputs": [
    {
     "data": {
      "text/plain": [
       "219"
      ]
     },
     "execution_count": 47,
     "metadata": {},
     "output_type": "execute_result"
    }
   ],
   "source": [
    "all2.count(True)"
   ]
  },
  {
   "cell_type": "code",
   "execution_count": 48,
   "id": "15b92acc",
   "metadata": {},
   "outputs": [
    {
     "data": {
      "text/plain": [
       "4"
      ]
     },
     "execution_count": 48,
     "metadata": {},
     "output_type": "execute_result"
    }
   ],
   "source": [
    "all2.count(False)"
   ]
  },
  {
   "cell_type": "code",
   "execution_count": 49,
   "id": "047cb759",
   "metadata": {},
   "outputs": [
    {
     "name": "stdout",
     "output_type": "stream",
     "text": [
      "Pn15.720\n",
      "Pn33.337\n",
      "Pn4.499\n",
      "Pn4.648\n"
     ]
    }
   ],
   "source": [
    "for i,gene in enumerate(up[\"forty\"]):\n",
    "    if gene not in list(genome[\"name\"]):\n",
    "        print(gene)"
   ]
  },
  {
   "cell_type": "code",
   "execution_count": 1,
   "id": "730a60b5",
   "metadata": {},
   "outputs": [],
   "source": [
    "import os"
   ]
  },
  {
   "cell_type": "code",
   "execution_count": 4,
   "id": "8332947a",
   "metadata": {},
   "outputs": [
    {
     "name": "stdout",
     "output_type": "stream",
     "text": [
      "1\n",
      "2\n",
      "3\n",
      "4\n",
      "5\n",
      "6\n",
      "7\n",
      "8\n",
      "9\n",
      "10\n",
      "11\n",
      "12\n",
      "13\n",
      "14\n",
      "15\n",
      "16\n",
      "17\n",
      "18\n",
      "19\n",
      "20\n",
      "21\n",
      "22\n",
      "23\n",
      "24\n",
      "25\n"
     ]
    }
   ],
   "source": [
    "for i in range(25):\n",
    "    print(i+1)"
   ]
  },
  {
   "cell_type": "code",
   "execution_count": 5,
   "id": "79a9b3b2",
   "metadata": {},
   "outputs": [
    {
     "data": {
      "text/plain": [
       "'/home/gerardo/Documentos/Gera/SyntheticBiobots/2022/Metods/Circos/2'"
      ]
     },
     "execution_count": 5,
     "metadata": {},
     "output_type": "execute_result"
    }
   ],
   "source": [
    "pwd()"
   ]
  },
  {
   "cell_type": "code",
   "execution_count": 12,
   "id": "f293cb1a",
   "metadata": {},
   "outputs": [
    {
     "name": "stdout",
     "output_type": "stream",
     "text": [
      "cd 1\n"
     ]
    }
   ],
   "source": [
    "i = 0\n",
    "print(f\"cd {i+1}\")"
   ]
  },
  {
   "cell_type": "code",
   "execution_count": 10,
   "id": "444a88d4",
   "metadata": {},
   "outputs": [
    {
     "data": {
      "text/plain": [
       "'/home/gerardo/Documentos/Gera/SyntheticBiobots/2022/Metods/Circos/2'"
      ]
     },
     "execution_count": 10,
     "metadata": {},
     "output_type": "execute_result"
    }
   ],
   "source": [
    "pwd()"
   ]
  },
  {
   "cell_type": "code",
   "execution_count": null,
   "id": "03e75902",
   "metadata": {},
   "outputs": [],
   "source": []
  }
 ],
 "metadata": {
  "kernelspec": {
   "display_name": "Python 3 (ipykernel)",
   "language": "python",
   "name": "python3"
  },
  "language_info": {
   "codemirror_mode": {
    "name": "ipython",
    "version": 3
   },
   "file_extension": ".py",
   "mimetype": "text/x-python",
   "name": "python",
   "nbconvert_exporter": "python",
   "pygments_lexer": "ipython3",
   "version": "3.9.5"
  }
 },
 "nbformat": 4,
 "nbformat_minor": 5
}
