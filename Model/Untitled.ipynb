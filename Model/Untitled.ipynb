{
 "cells": [
  {
   "cell_type": "code",
   "execution_count": 1,
   "id": "f8a34b10",
   "metadata": {},
   "outputs": [],
   "source": [
    "import ipywidgets as widgets\n",
    "from IPython.display import display\n",
    "import numpy as np\n",
    "import matplotlib.pyplot as plt\n",
    "from math import e\n",
    "%matplotlib inline"
   ]
  },
  {
   "cell_type": "code",
   "execution_count": 14,
   "id": "00c39e15",
   "metadata": {},
   "outputs": [],
   "source": [
    "def azucar(t,k,L,b):\n",
    "    return(L/(1+b*e**(-t*k)))\n",
    "\n",
    "def cprot_1(t,b1,a1):\n",
    "    return((b1/a1)*(1-e**(-a1*t)))\n",
    "\n",
    "def cprot_2(t,b2,a2):\n",
    "    return((b2/a2)*(1-e**(-a2*t)))\n",
    "\n",
    "def caa(t,cp1,cp2,baa,aaa,k1,k2):\n",
    "    return((baa/aaa)*(e**(-t*(aaa+k1+cp1+k2+cp2))))"
   ]
  },
  {
   "cell_type": "code",
   "execution_count": 24,
   "id": "4a2ae342",
   "metadata": {},
   "outputs": [],
   "source": [
    "def plot_azucar(k,L,b,b1,a1,b2,a2,baa,aaa,k1,k2):\n",
    "    t = np.linspace(-1, 10, 100)\n",
    "    fig, ax = plt.subplots(figsize=(15,9))\n",
    "    ax.set_ylim([-1, 4])\n",
    "    ax.plot(t, azucar(t,k,L,b), color='blue')\n",
    "    ax.plot(t,cprot_1(azucar(t,k,L,b),b1,a1),color=\"green\")\n",
    "    ax.plot(t,cprot_2(azucar(t,k,L,b),b2,a2),color=\"yellow\")\n",
    "    ax.plot(t,caa(t,cprot_1(azucar(t,k,L,b),b1,a1),cprot_2(azucar(t,k,L,b),b2,a2),baa,aaa,k1,k2),color=\"red\")\n",
    "    ax.set_xlabel('Time [s]')\n",
    "    \n",
    "    plt.show()"
   ]
  },
  {
   "cell_type": "code",
   "execution_count": 25,
   "id": "3def1d92",
   "metadata": {},
   "outputs": [
    {
     "data": {
      "application/vnd.jupyter.widget-view+json": {
       "model_id": "ffe82c08df5541b0a2dfacf3f6332acc",
       "version_major": 2,
       "version_minor": 0
      },
      "text/plain": [
       "interactive(children=(FloatSlider(value=5.0, description='k', max=10.0, min=1.0), FloatSlider(value=2.0, descr…"
      ]
     },
     "metadata": {},
     "output_type": "display_data"
    },
    {
     "data": {
      "text/plain": [
       "<function __main__.plot_azucar(k, L, b, b1, a1, b2, a2, baa, aaa, k1, k2)>"
      ]
     },
     "execution_count": 25,
     "metadata": {},
     "output_type": "execute_result"
    }
   ],
   "source": [
    "widgets.interact(plot_azucar, k=(1,10,0.1),\n",
    "                L=(1,4,0.1),\n",
    "                b=(1,50,1),\n",
    "                b1=(0,10,0.1),\n",
    "                a1=(0.01,10,0.1),\n",
    "                b2=(0,10,0.1),\n",
    "                a2=(0.01,10,0.1),\n",
    "                baa=(0,4,0.1),\n",
    "                aaa=(0.01,1,0.1),\n",
    "                k1=(0,1,0.1),\n",
    "                k2=(0,1,0.1))"
   ]
  },
  {
   "cell_type": "code",
   "execution_count": 19,
   "id": "66f0e267",
   "metadata": {},
   "outputs": [
    {
     "ename": "NameError",
     "evalue": "name 'ax' is not defined",
     "output_type": "error",
     "traceback": [
      "\u001b[0;31m---------------------------------------------------------------------------\u001b[0m",
      "\u001b[0;31mNameError\u001b[0m                                 Traceback (most recent call last)",
      "\u001b[0;32m/tmp/ipykernel_17286/1353084402.py\u001b[0m in \u001b[0;36m<module>\u001b[0;34m\u001b[0m\n\u001b[0;32m----> 1\u001b[0;31m \u001b[0max\u001b[0m\u001b[0;34m.\u001b[0m\u001b[0mplot\u001b[0m\u001b[0;34m(\u001b[0m\u001b[0mt\u001b[0m\u001b[0;34m,\u001b[0m\u001b[0mcaa\u001b[0m\u001b[0;34m(\u001b[0m\u001b[0mt\u001b[0m\u001b[0;34m,\u001b[0m\u001b[0mcprot_1\u001b[0m\u001b[0;34m(\u001b[0m\u001b[0mazucar\u001b[0m\u001b[0;34m(\u001b[0m\u001b[0mt\u001b[0m\u001b[0;34m,\u001b[0m\u001b[0mk\u001b[0m\u001b[0;34m,\u001b[0m\u001b[0mL\u001b[0m\u001b[0;34m,\u001b[0m\u001b[0mb\u001b[0m\u001b[0;34m)\u001b[0m\u001b[0;34m,\u001b[0m\u001b[0mb1\u001b[0m\u001b[0;34m,\u001b[0m\u001b[0ma1\u001b[0m\u001b[0;34m)\u001b[0m\u001b[0;34m,\u001b[0m\u001b[0mcprot_2\u001b[0m\u001b[0;34m(\u001b[0m\u001b[0mazucar\u001b[0m\u001b[0;34m(\u001b[0m\u001b[0mt\u001b[0m\u001b[0;34m,\u001b[0m\u001b[0mk\u001b[0m\u001b[0;34m,\u001b[0m\u001b[0mL\u001b[0m\u001b[0;34m,\u001b[0m\u001b[0mb\u001b[0m\u001b[0;34m)\u001b[0m\u001b[0;34m,\u001b[0m\u001b[0mb2\u001b[0m\u001b[0;34m,\u001b[0m\u001b[0ma2\u001b[0m\u001b[0;34m)\u001b[0m\u001b[0;34m,\u001b[0m\u001b[0mbaa\u001b[0m\u001b[0;34m,\u001b[0m\u001b[0maaa\u001b[0m\u001b[0;34m,\u001b[0m\u001b[0mk1\u001b[0m\u001b[0;34m,\u001b[0m\u001b[0mk2\u001b[0m\u001b[0;34m)\u001b[0m\u001b[0;34m,\u001b[0m\u001b[0mcolor\u001b[0m\u001b[0;34m=\u001b[0m\u001b[0;34m\"red\"\u001b[0m\u001b[0;34m)\u001b[0m\u001b[0;34m\u001b[0m\u001b[0;34m\u001b[0m\u001b[0m\n\u001b[0m",
      "\u001b[0;31mNameError\u001b[0m: name 'ax' is not defined"
     ]
    }
   ],
   "source": [
    "    ax.plot(t,caa(t,cprot_1(azucar(t,k,L,b),b1,a1),cprot_2(azucar(t,k,L,b),b2,a2),baa,aaa,k1,k2),color=\"red\")"
   ]
  },
  {
   "cell_type": "code",
   "execution_count": null,
   "id": "4e13ce8f",
   "metadata": {},
   "outputs": [],
   "source": []
  },
  {
   "cell_type": "code",
   "execution_count": null,
   "id": "977dcc64",
   "metadata": {},
   "outputs": [],
   "source": []
  },
  {
   "cell_type": "code",
   "execution_count": null,
   "id": "37df59f9",
   "metadata": {},
   "outputs": [],
   "source": []
  }
 ],
 "metadata": {
  "kernelspec": {
   "display_name": "Python 3 (ipykernel)",
   "language": "python",
   "name": "python3"
  },
  "language_info": {
   "codemirror_mode": {
    "name": "ipython",
    "version": 3
   },
   "file_extension": ".py",
   "mimetype": "text/x-python",
   "name": "python",
   "nbconvert_exporter": "python",
   "pygments_lexer": "ipython3",
   "version": "3.9.5"
  }
 },
 "nbformat": 4,
 "nbformat_minor": 5
}
