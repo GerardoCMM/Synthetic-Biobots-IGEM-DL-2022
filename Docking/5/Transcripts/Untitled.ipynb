{
 "cells": [
  {
   "cell_type": "code",
   "execution_count": 1,
   "id": "e6246628",
   "metadata": {},
   "outputs": [],
   "source": [
    "from Bio import SeqIO\n",
    "import pandas as pd"
   ]
  },
  {
   "cell_type": "code",
   "execution_count": 38,
   "id": "0700ca9c",
   "metadata": {},
   "outputs": [],
   "source": [
    "seqs = SeqIO.parse(\"Chrom_3.fa\",\"fasta\")"
   ]
  },
  {
   "cell_type": "code",
   "execution_count": 9,
   "id": "c6fcc23b",
   "metadata": {},
   "outputs": [],
   "source": [
    "exons = pd.read_csv(\"Exonic_parts_info.csv\")"
   ]
  },
  {
   "cell_type": "code",
   "execution_count": 10,
   "id": "6001deb6",
   "metadata": {},
   "outputs": [
    {
     "data": {
      "text/html": [
       "<div>\n",
       "<style scoped>\n",
       "    .dataframe tbody tr th:only-of-type {\n",
       "        vertical-align: middle;\n",
       "    }\n",
       "\n",
       "    .dataframe tbody tr th {\n",
       "        vertical-align: top;\n",
       "    }\n",
       "\n",
       "    .dataframe thead th {\n",
       "        text-align: right;\n",
       "    }\n",
       "</style>\n",
       "<table border=\"1\" class=\"dataframe\">\n",
       "  <thead>\n",
       "    <tr style=\"text-align: right;\">\n",
       "      <th></th>\n",
       "      <th>Exonic part</th>\n",
       "      <th>Size</th>\n",
       "      <th>Start</th>\n",
       "      <th>End</th>\n",
       "    </tr>\n",
       "  </thead>\n",
       "  <tbody>\n",
       "    <tr>\n",
       "      <th>0</th>\n",
       "      <td>1</td>\n",
       "      <td>243</td>\n",
       "      <td>27963279</td>\n",
       "      <td>27963521</td>\n",
       "    </tr>\n",
       "    <tr>\n",
       "      <th>1</th>\n",
       "      <td>2</td>\n",
       "      <td>234</td>\n",
       "      <td>27963643</td>\n",
       "      <td>27963876</td>\n",
       "    </tr>\n",
       "    <tr>\n",
       "      <th>2</th>\n",
       "      <td>3</td>\n",
       "      <td>48</td>\n",
       "      <td>27964044</td>\n",
       "      <td>27964091</td>\n",
       "    </tr>\n",
       "    <tr>\n",
       "      <th>3</th>\n",
       "      <td>4</td>\n",
       "      <td>108</td>\n",
       "      <td>27964184</td>\n",
       "      <td>27964291</td>\n",
       "    </tr>\n",
       "    <tr>\n",
       "      <th>4</th>\n",
       "      <td>5</td>\n",
       "      <td>190</td>\n",
       "      <td>27964687</td>\n",
       "      <td>27964876</td>\n",
       "    </tr>\n",
       "    <tr>\n",
       "      <th>5</th>\n",
       "      <td>6</td>\n",
       "      <td>112</td>\n",
       "      <td>27965162</td>\n",
       "      <td>27965273</td>\n",
       "    </tr>\n",
       "    <tr>\n",
       "      <th>6</th>\n",
       "      <td>7</td>\n",
       "      <td>103</td>\n",
       "      <td>27966029</td>\n",
       "      <td>27966131</td>\n",
       "    </tr>\n",
       "    <tr>\n",
       "      <th>7</th>\n",
       "      <td>8</td>\n",
       "      <td>1035</td>\n",
       "      <td>27969782</td>\n",
       "      <td>27970816</td>\n",
       "    </tr>\n",
       "    <tr>\n",
       "      <th>8</th>\n",
       "      <td>9</td>\n",
       "      <td>151</td>\n",
       "      <td>27970965</td>\n",
       "      <td>27971151</td>\n",
       "    </tr>\n",
       "    <tr>\n",
       "      <th>9</th>\n",
       "      <td>10</td>\n",
       "      <td>146</td>\n",
       "      <td>27971734</td>\n",
       "      <td>27971879</td>\n",
       "    </tr>\n",
       "    <tr>\n",
       "      <th>10</th>\n",
       "      <td>11</td>\n",
       "      <td>68</td>\n",
       "      <td>27972022</td>\n",
       "      <td>27972089</td>\n",
       "    </tr>\n",
       "    <tr>\n",
       "      <th>11</th>\n",
       "      <td>12</td>\n",
       "      <td>103</td>\n",
       "      <td>27972764</td>\n",
       "      <td>27972866</td>\n",
       "    </tr>\n",
       "    <tr>\n",
       "      <th>12</th>\n",
       "      <td>13</td>\n",
       "      <td>114</td>\n",
       "      <td>27973534</td>\n",
       "      <td>27973647</td>\n",
       "    </tr>\n",
       "  </tbody>\n",
       "</table>\n",
       "</div>"
      ],
      "text/plain": [
       "    Exonic part  Size     Start       End\n",
       "0             1   243  27963279  27963521\n",
       "1             2   234  27963643  27963876\n",
       "2             3    48  27964044  27964091\n",
       "3             4   108  27964184  27964291\n",
       "4             5   190  27964687  27964876\n",
       "5             6   112  27965162  27965273\n",
       "6             7   103  27966029  27966131\n",
       "7             8  1035  27969782  27970816\n",
       "8             9   151  27970965  27971151\n",
       "9            10   146  27971734  27971879\n",
       "10           11    68  27972022  27972089\n",
       "11           12   103  27972764  27972866\n",
       "12           13   114  27973534  27973647"
      ]
     },
     "execution_count": 10,
     "metadata": {},
     "output_type": "execute_result"
    }
   ],
   "source": [
    "exons"
   ]
  },
  {
   "cell_type": "code",
   "execution_count": 39,
   "id": "01c41448",
   "metadata": {},
   "outputs": [
    {
     "name": "stdout",
     "output_type": "stream",
     "text": [
      ">Pn16.1237_1\n",
      "TGGAGAAATCTGGTTATGGGAAGGATGGGATTTACAGGTCACTTCGGCCACCTATTGTCTTCCCCAAGGATCCAAACCTGTCTTTGGTCTCTTTTCGGTTTCAAAATTCTGATGCTTACCCAGATCGTCTTGCTCTAGCTGATGCTGTTTCTGGGGAGTCCTTGAATTTTGCCCAGTTCAAATCCTTGGTTCAAAAGATCTCCCATGGATTGTCCAAATTGGGCGTCAAGAAAGGGGATGTG\n",
      ">Pn16.1237_2\n",
      "TTGATGATTCCAAAGACAAGCTTGTGACCACAGTCCCTCAGTTGTGGGACAAGGTCAAAAATCTTGGGCGCCCTGCAGTGTTCTTTGCAAGTTTAATCAGTGGAGATGGCAGTATTGCTTCCAGCAATAGTGTCACCTACTTCCTTGATTTTATTAAACTCGGCGAGCATGTATCTGAATTCCCGCCTGTTTCGATTAAACAGTCGGACGTGGCTGCTCTACATACTCTTCTG\n",
      ">Pn16.1237_3\n",
      "TAAAGAGGGGAAATAGTGTGATATCAGTTGAGAAATTTGACCTTGAG\n",
      ">Pn16.1237_4\n",
      "AGTATGATTTGTCATCCTTGAAGAGGATTGGCTCTGGTGCTGCTCCTCTTGGAGAGGAGGTGGTAGAAGAGTGTGCAAAGAATTACCCCCACACCGCAATTATCCAG\n",
      ">Pn16.1237_5\n",
      "GTTATGGTTTGACAGAGACTTGTGCAATTGTCTCCTTAGAGAATCCAAACGAAGGAGGTCAGAAATATGGTTCATCAGGGATTCCTGCGTCAAGAATTGAAGCTAAGATAGTCAGTGTGGAAAAGTTGATACCTCTGCCTCCAAATCAACTGGGCGAAATATGGTTAAGATGCCCAAATATTATGCTAG\n",
      ">Pn16.1237_6\n",
      "TTATTTCAACAACCCCCAGGCAACAAAACTGTCAATTGATAAACAAGGACGATTTCATACAGGGGATCTTGGTTATTTCGATGAGGAAGGAAAGCTATTTGTTGATATCAG\n",
      ">Pn16.1237_7\n",
      "TTTCCTGATGCTGAAGCTGGTGCGGTCCCCATTGCTTATGTTGTGTGCATTCCAAGTATCTCATTGGATGAAGAAGCTGTTATGAAATTTATTGCTGAGCAG\n",
      ">Pn16.1237_8\n",
      "TTGCAATGGAGAAGTCTGGCTATGGAAATGATGGGATTTACCGGTCACTCAGGCCACCTGTTCTCTTCCCCAATGACCCAAACCTGTCAGTGACCTCTTATCTGTTCCAGAGATCTGATGCCTACCCAGATCGTCTTGCTCTAGCCGATGCCAATAGTGGGGAGACCTTGAACTTTGCCCAGTTCAAAGCTATGGTTCAAAGGGTTTCCCATGGCTTGTCCAGACTGGGCATAAAGAAAGGGGATGTGGTACTAATATTTTCTCCAAATTCCATTTACTTCCCTGTTTGTTTTTTAGCCATTGTAGCCCTTGGGGCAGTTGTCACCACTGGGAATCCTCAATATACCTCTGCCGAAATCACAAAGCAGGCTAATGATTCTAAACCCAAGCTTGTGATCACAGTCCCTCAGTTGTGGGACAAGGTCAACCATCTTGGCCTCCCTGCAGTTTTTCTTGGAAGCAAAATAAGTGGAGATGGTACCATTGCTCCCAGCAATAGAAACATTAATGGTACTGTCACCTACTTTTCCAATTTGGTTGAACTTGGTGGGCATGTATCCGAGTTCCCACCAGTGTCAATCAAACGGTCGGATATAGCGGCTCTACTATACTCCTCTGGTACCAGTGGCACAAGCAAGGGAGTTATCCTGACTCATAGGAATTTAATTTCGACTGCTTGCATGACAACTTCTGATCAAGAGTTTGATGGTGAAGATCCCAACGTGTTCCTTTGTTTTCTGCCGATGTCCCATGTATTTGGTCTAGTGATTATTTGTTATTCTCAGTTAATGAGGGGGAACAGTGTGGTGTCAGTGGAGAAATTTGATCTTGAGATGGTCTTGAGATCTGTGGGGAAATACCGGGTGACATACTTGTGTGTTGTGCCCCCTGTTATGATTGCTCTTGCTAAACAAAACTGGGGAAAGATATATGATTTGTCATCCTTGAAGAGGATTATTTGTGGCTCTGCTCCTCTGGGAAAGGAGGTGATTGAAGAGTGTGCAAAGAATTACCCTCACGTCCCTATTATCCAG\n",
      ">Pn16.1237_9\n",
      "GTTATGGTTTGACAGAGTCCTGTGGCATTGCCTCGCTAGAAATTCCTGAAGGAGTTCGGGAATATGGTTCGTCAGGGATTCTTTTTCCAGCAGTTGAAGCTAAGATCGTTCATGTGGAGAACTTGACACCTTTGCCTCCAAATCAACTGGGTGAAATATGGATTAGAGGGCCAAATATGATGCAAG\n",
      ">Pn16.1237_10\n",
      "TTATCTCAACAATCCGCAGGCAACCAAATTGACAATTGATGAACAAGGATGGGTTCATACTGGAGATCTCGGTTATTTCAATGGGGAAGGAAGGCTATCTGTTGTCGATCGAATTAAGGAGCTGATAAAATGTAAAGGATTTCAG\n",
      ">Pn16.1237_11\n",
      "TGGCTCCTGCAGAACTGGAAGGTTTGCTTCTTTCTCATCAGGAGATATTGGATGCAGTCGTCATCCC\n",
      ">Pn16.1237_12\n",
      "TACCCTGATGCAGAAGCCGGTGAAGTTCCCATTGCTTATGTTGTCCGAGCTCTGAGTAGCACGTTAGACGAAGAAGCTGTCAAGAAATTCATTGCTGAGCAG\n",
      ">Pn16.1237_13\n",
      "TTGCACCTTTTAAAAGATTGCGGAAAGTAACATTTGTTAATAGTGTGCCCAAATCAGCTTCAGGGAAAATCCTCAGAAGAGAGCTTATCGCCAAAGTTCGATCAAAGATATAA\n"
     ]
    }
   ],
   "source": [
    "for seq in seqs:\n",
    "    for num,exon in enumerate(exons[\"Exonic part\"]):\n",
    "        print(\">\"+\"Pn16.1237\"+\"_\"+str(exon))\n",
    "        print(seq.seq[exons[\"Start\"][num]:exons[\"End\"][num]])"
   ]
  },
  {
   "cell_type": "code",
   "execution_count": 32,
   "id": "9d6a87dd",
   "metadata": {},
   "outputs": [],
   "source": [
    "x = \"12345678901234567890\""
   ]
  },
  {
   "cell_type": "code",
   "execution_count": 33,
   "id": "1659d199",
   "metadata": {},
   "outputs": [
    {
     "data": {
      "text/plain": [
       "'456'"
      ]
     },
     "execution_count": 33,
     "metadata": {},
     "output_type": "execute_result"
    }
   ],
   "source": [
    "x[3:6]"
   ]
  },
  {
   "cell_type": "code",
   "execution_count": null,
   "id": "1c975d6f",
   "metadata": {},
   "outputs": [],
   "source": []
  }
 ],
 "metadata": {
  "kernelspec": {
   "display_name": "Python 3 (ipykernel)",
   "language": "python",
   "name": "python3"
  },
  "language_info": {
   "codemirror_mode": {
    "name": "ipython",
    "version": 3
   },
   "file_extension": ".py",
   "mimetype": "text/x-python",
   "name": "python",
   "nbconvert_exporter": "python",
   "pygments_lexer": "ipython3",
   "version": "3.9.5"
  }
 },
 "nbformat": 4,
 "nbformat_minor": 5
}
